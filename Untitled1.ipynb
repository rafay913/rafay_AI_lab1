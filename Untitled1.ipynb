{
  "cells": [
    {
      "cell_type": "code",
      "execution_count": null,
      "metadata": {
        "colab": {
          "base_uri": "https://localhost:8080/",
          "height": 419
        },
        "id": "-C4oCgW-bxTm",
        "outputId": "b8a4257f-d526-4c32-ebf1-87034d575806"
      },
      "outputs": [
        {
          "name": "stdout",
          "output_type": "stream",
          "text": [
            "abdul rafay\n",
            "10.0\n",
            "10\n",
            "a\n",
            "apple\n",
            "10 20 30 40\n",
            "10\n",
            "20\n",
            "30\n",
            "40\n",
            "10 10 10\n",
            "Pythonisawesome\n",
            "Python is awesome\n",
            "12 10.1 rafay\n"
          ]
        },
        {
          "ename": "TypeError",
          "evalue": "unsupported operand type(s) for +: 'float' and 'str'",
          "output_type": "error",
          "traceback": [
            "\u001b[0;31m---------------------------------------------------------------------------\u001b[0m",
            "\u001b[0;31mTypeError\u001b[0m                                 Traceback (most recent call last)",
            "\u001b[0;32m<ipython-input-2-f64211ab9722>\u001b[0m in \u001b[0;36m<cell line: 59>\u001b[0;34m()\u001b[0m\n\u001b[1;32m     57\u001b[0m \u001b[0mfloat\u001b[0m\u001b[0;34m=\u001b[0m \u001b[0;36m10.1\u001b[0m\u001b[0;34m;\u001b[0m\u001b[0;34m\u001b[0m\u001b[0;34m\u001b[0m\u001b[0m\n\u001b[1;32m     58\u001b[0m \u001b[0mstr\u001b[0m\u001b[0;34m=\u001b[0m\u001b[0;34m\"rafay\"\u001b[0m\u001b[0;34m;\u001b[0m\u001b[0;34m\u001b[0m\u001b[0;34m\u001b[0m\u001b[0m\n\u001b[0;32m---> 59\u001b[0;31m \u001b[0mprint\u001b[0m\u001b[0;34m(\u001b[0m\u001b[0mint\u001b[0m\u001b[0;34m+\u001b[0m\u001b[0mfloat\u001b[0m\u001b[0;34m+\u001b[0m\u001b[0mstr\u001b[0m\u001b[0;34m)\u001b[0m\u001b[0;34m\u001b[0m\u001b[0;34m\u001b[0m\u001b[0m\n\u001b[0m",
            "\u001b[0;31mTypeError\u001b[0m: unsupported operand type(s) for +: 'float' and 'str'"
          ]
        }
      ],
      "source": [
        "print(\"abdul rafay\")\n",
        "\n",
        "# 2\n",
        "a=float(10);\n",
        "print(a);\n",
        "b=int(10.4);\n",
        "print(b);\n",
        "chr = \"a\";\n",
        "print(chr);\n",
        "str=\"apple\";\n",
        "print(str);\n",
        "\n",
        "\n",
        "# 3\n",
        "#@name=\"rafay\";\n",
        "#print(@rafay)\n",
        "\n",
        "\n",
        "# 4\n",
        "c=(10,20,30,40)\n",
        "print(c[0],c[1],c[2],c[3])\n",
        "\n",
        "\n",
        "# 5\n",
        "print(c[0]);\n",
        "print(c[1]);\n",
        "print(c[2]);\n",
        "print(c[3]);\n",
        "\n",
        "e=f=g=10;\n",
        "\n",
        "print(e,f,g)\n",
        "\n",
        "\n",
        "# 6\n",
        "x = \"Python\"\n",
        "y = \"is\"\n",
        "z = \"awesome\"\n",
        "print(x + y + z)\n",
        "# inthe plus there is no space between string\n",
        "\n",
        "#7\n",
        "x = \"Python\"\n",
        "y = \"is\"\n",
        "z = \"awesome\"\n",
        "print(x ,y ,z)\n",
        "# in this comma the is spaxe between string\n",
        "\n",
        "\n",
        "int =12\n",
        "float= 10.1;\n",
        "str=\"rafay\"\n",
        "print(int,float,str)\n",
        "\n",
        "# 9\n",
        "int =12\n",
        "float= 10.1;\n",
        "str=\"rafay\";\n",
        "print(int+float+str)"
      ]
    },
    {
      "cell_type": "markdown",
      "metadata": {
        "id": "OTlaaGX4-H0R"
      },
      "source": [
        "lab 2 and 3\n",
        "\n",
        "## task 1:\n",
        "1.\tPrint at least 5 types of data type\n"
      ]
    },
    {
      "cell_type": "code",
      "execution_count": null,
      "metadata": {
        "colab": {
          "background_save": true,
          "base_uri": "https://localhost:8080/"
        },
        "id": "7SVH2NQ641yd",
        "outputId": "4088770c-f57d-42f3-bd66-e0d1a8a93fbf"
      },
      "outputs": [
        {
          "ename": "SyntaxError",
          "evalue": "invalid decimal literal (<ipython-input-14-5927a2edbd9a>, line 23)",
          "output_type": "error",
          "traceback": [
            "\u001b[0;36m  File \u001b[0;32m\"<ipython-input-14-5927a2edbd9a>\"\u001b[0;36m, line \u001b[0;32m23\u001b[0m\n\u001b[0;31m    d= 2 + 5a\u001b[0m\n\u001b[0m           ^\u001b[0m\n\u001b[0;31mSyntaxError\u001b[0m\u001b[0;31m:\u001b[0m invalid decimal literal\n"
          ]
        }
      ],
      "source": [
        "a= 10;\n",
        "b= 20;\n",
        "c=30;\n",
        "d=40;\n",
        "e= 40;\n",
        "print(a,b,c,d,e);\n",
        "print(type(a),type(b),type(c),type(d))\n",
        "\n",
        "\n",
        "#2;\n",
        "a= 10.1;\n",
        "b=20.45;\n",
        "c=50.5;\n",
        "d=34;\n",
        "e=30,10\n",
        "print(a,b,c,d)\n",
        "print(type(a))"
      ]
    },
    {
      "cell_type": "markdown",
      "source": [
        "### Lab 4 and 5:\n",
        "## Task 1:\n",
        "# 1.\tAccess List Items:\n",
        "\n",
        "•Create a list of fruits.\n",
        "\n",
        "•\tPrint the first and last items of the list.\n"
      ],
      "metadata": {
        "id": "XBNfagG22vlZ"
      }
    },
    {
      "cell_type": "code",
      "source": [
        "fruits = [ \"banana\", \"orange\", \"grape\", \"kiwi\"]\n",
        "print(\"First item:\", fruits[0])\n",
        "print(\"Last item:\", fruits[-1])\n"
      ],
      "metadata": {
        "colab": {
          "base_uri": "https://localhost:8080/"
        },
        "id": "z0oZPI2F1QkO",
        "outputId": "0aa1c86e-fcc8-44b2-8e31-743707af0846"
      },
      "execution_count": 1,
      "outputs": [
        {
          "output_type": "stream",
          "name": "stdout",
          "text": [
            "First item: banana\n",
            "Last item: kiwi\n"
          ]
        }
      ]
    },
    {
      "cell_type": "markdown",
      "source": [
        "## Task2:\tChange List Items:\n",
        "•\tCreate a list of colors.\n",
        "\n",
        "•\tChange the second item in the list to \"blue\".\n"
      ],
      "metadata": {
        "id": "6B5xqM5R3gsB"
      }
    },
    {
      "cell_type": "code",
      "source": [
        "colors = [\"red\", \"green\", \"yellow\", \"orange\",\"voilet\"]\n",
        "colors[1] = \"blue\"\n",
        "print(\"Updated colors:\", colors)\n",
        "\n"
      ],
      "metadata": {
        "colab": {
          "base_uri": "https://localhost:8080/"
        },
        "id": "4_rmpF813ghV",
        "outputId": "3169a515-c61c-4da9-d46d-0ceb3aac0d0e"
      },
      "execution_count": 2,
      "outputs": [
        {
          "output_type": "stream",
          "name": "stdout",
          "text": [
            "Updated colors: ['red', 'blue', 'yellow', 'purple']\n"
          ]
        }
      ]
    },
    {
      "cell_type": "markdown",
      "source": [
        "## Task3:Add List Items:\n",
        "\n",
        "•\tCreate a list of numbers.\n",
        "\n",
        "•\tAdd the number 10 at the end of the list.\n"
      ],
      "metadata": {
        "id": "pvFBdzS032rS"
      }
    },
    {
      "cell_type": "code",
      "source": [
        "numbers = [1, 2, 3, 4, 5]\n",
        "numbers.append(10)\n",
        "print(\"Updated numbers:\", numbers)\n"
      ],
      "metadata": {
        "colab": {
          "base_uri": "https://localhost:8080/"
        },
        "id": "kORTxjox325K",
        "outputId": "43a694e8-087a-41fc-db49-2d5745e80ead"
      },
      "execution_count": 3,
      "outputs": [
        {
          "output_type": "stream",
          "name": "stdout",
          "text": [
            "Updated numbers: [1, 2, 3, 4, 5, 10]\n"
          ]
        }
      ]
    },
    {
      "cell_type": "markdown",
      "source": [
        "Task4:\n",
        "\tRemove List Items:\n",
        "  \n",
        "•\tCreate a list of animals.\n",
        "\n",
        "•\tRemove the third item from the list.\n"
      ],
      "metadata": {
        "id": "rnafB15l4OL8"
      }
    },
    {
      "cell_type": "code",
      "source": [
        "animals = [\"dog\", \"cat\", \"lion\", \"elephant\"]\n",
        "del animals[2]\n",
        "print(\"Updated animals:\", animals)\n"
      ],
      "metadata": {
        "colab": {
          "base_uri": "https://localhost:8080/"
        },
        "id": "nuNW-MNN4OXa",
        "outputId": "4c267ea2-16bc-4fdf-86eb-38831317a002"
      },
      "execution_count": 4,
      "outputs": [
        {
          "output_type": "stream",
          "name": "stdout",
          "text": [
            "Updated animals: ['dog', 'cat', 'elephant']\n"
          ]
        }
      ]
    },
    {
      "cell_type": "markdown",
      "source": [
        "## Task5:Loop Lists:\n",
        "\n",
        "•\tCreate a list of cities.\n",
        "\n",
        "•\tLoop through the list and print each city.\n"
      ],
      "metadata": {
        "id": "1VN6HC8t4g_p"
      }
    },
    {
      "cell_type": "code",
      "source": [
        "cities = [\"New York\", \"London\", \"Paris\", \"Tokyo\"]\n",
        "for city in cities:\n",
        "    print(city)\n"
      ],
      "metadata": {
        "colab": {
          "base_uri": "https://localhost:8080/"
        },
        "id": "45c5TT3m4gqp",
        "outputId": "de304fc8-e6f3-40b3-b76d-e2e49ff9d6c4"
      },
      "execution_count": 5,
      "outputs": [
        {
          "output_type": "stream",
          "name": "stdout",
          "text": [
            "New York\n",
            "London\n",
            "Paris\n",
            "Tokyo\n"
          ]
        }
      ]
    },
    {
      "cell_type": "markdown",
      "source": [
        "## Task6:6.\tList Comprehension:\n",
        "•\tCreate a list of numbers from 1 to 10.\n",
        "\n",
        "•\tUse list comprehension to create a new list containing the square of each number.\n"
      ],
      "metadata": {
        "id": "aW6xTh4D46LL"
      }
    },
    {
      "cell_type": "code",
      "source": [
        "numbers = [i for i in range(1, 11)]\n",
        "squares = [num ** 2 for num in numbers]\n",
        "print(\"Squared numbers:\", squares)\n"
      ],
      "metadata": {
        "colab": {
          "base_uri": "https://localhost:8080/"
        },
        "id": "G09vgZzi46Yp",
        "outputId": "eab858ab-89d8-492e-a704-080ab3df35e0"
      },
      "execution_count": 6,
      "outputs": [
        {
          "output_type": "stream",
          "name": "stdout",
          "text": [
            "Squared numbers: [1, 4, 9, 16, 25, 36, 49, 64, 81, 100]\n"
          ]
        }
      ]
    },
    {
      "cell_type": "markdown",
      "source": [
        "##Task7:7.\tSort Lists:\n",
        "•\tCreate a list of names.\n",
        "\n",
        "•\tSort the list alphabetically.\n"
      ],
      "metadata": {
        "id": "4KMb1Hvb5ZGi"
      }
    },
    {
      "cell_type": "code",
      "source": [
        "names = [\"Alice\", \"Bob\", \"Charlie\", \"David\"]\n",
        "names.sort()\n",
        "print(\"Sorted names:\", names)\n",
        "\n"
      ],
      "metadata": {
        "colab": {
          "base_uri": "https://localhost:8080/"
        },
        "id": "0zJTYBBp5Y97",
        "outputId": "6b018075-1523-427b-cdd5-5221736f8c42"
      },
      "execution_count": 7,
      "outputs": [
        {
          "output_type": "stream",
          "name": "stdout",
          "text": [
            "Sorted names: ['Alice', 'Bob', 'Charlie', 'David']\n"
          ]
        }
      ]
    },
    {
      "cell_type": "markdown",
      "source": [
        "## Task8:\tCopy Lists:\n",
        "•\tCreate a list of fruits.\n",
        "\n",
        "•\tCopy the list into a new list.\n"
      ],
      "metadata": {
        "id": "l833N2Fi5wMU"
      }
    },
    {
      "cell_type": "code",
      "source": [
        "\n",
        "fruits = [\"apple\", \"banana\", \"orange\"]\n",
        "fruits_copy = fruits.copy()\n",
        "print(\"Copied list:\", fruits_copy)\n"
      ],
      "metadata": {
        "colab": {
          "base_uri": "https://localhost:8080/"
        },
        "id": "LB-YWtUW5wdi",
        "outputId": "921047e2-8702-431b-d053-5014ecedc27e"
      },
      "execution_count": 8,
      "outputs": [
        {
          "output_type": "stream",
          "name": "stdout",
          "text": [
            "Copied list: ['apple', 'banana', 'orange']\n"
          ]
        }
      ]
    },
    {
      "cell_type": "markdown",
      "source": [
        "## Task9:9.\tJoin Lists:\n",
        "•\tCreate two lists of numbers.\n",
        "\n",
        "•\tJoin the two lists into a single list.\n"
      ],
      "metadata": {
        "id": "RJ7j2V3W6C4b"
      }
    },
    {
      "cell_type": "code",
      "source": [
        "list1 = [1, 2, 3]\n",
        "list2 = [4, 5, 6]\n",
        "combined_list = list1 + list2\n",
        "print(\"Combined list:\", combined_list)\n"
      ],
      "metadata": {
        "colab": {
          "base_uri": "https://localhost:8080/"
        },
        "id": "pSe5Zp836DBB",
        "outputId": "14df12d4-55d4-4c49-dfbd-a67da3e44c25"
      },
      "execution_count": 9,
      "outputs": [
        {
          "output_type": "stream",
          "name": "stdout",
          "text": [
            "Combined list: [1, 2, 3, 4, 5, 6]\n"
          ]
        }
      ]
    },
    {
      "cell_type": "markdown",
      "source": [
        "## Task 10:10.\tList Methods:\n",
        "•\tCreate a list of fruits.\n",
        "\n",
        "•\tUse the append() method to add a new fruit to the list.\n",
        "\n",
        "•\tUse the pop() method to remove the last fruit from the list.\n",
        "\n"
      ],
      "metadata": {
        "id": "eeFD1k4u6VIR"
      }
    },
    {
      "cell_type": "code",
      "source": [
        "fruits = [\"apple\", \"banana\", \"orange\"]\n",
        "fruits.append(\"grape\")\n",
        "print(\"Updated fruits:\", fruits)\n",
        "fruits.pop()\n",
        "print(\"After popping:\", fruits)\n"
      ],
      "metadata": {
        "colab": {
          "base_uri": "https://localhost:8080/"
        },
        "id": "ozhyXk9g6VQZ",
        "outputId": "dc2a8f36-c612-45e9-a69d-eb80f96edeba"
      },
      "execution_count": 10,
      "outputs": [
        {
          "output_type": "stream",
          "name": "stdout",
          "text": [
            "Updated fruits: ['apple', 'banana', 'orange', 'grape']\n",
            "After popping: ['apple', 'banana', 'orange']\n"
          ]
        }
      ]
    },
    {
      "cell_type": "markdown",
      "source": [
        "Task11:11.\tCombining Lists and List Comprehension:\n",
        "\n",
        "•\tCreate two lists, one containing numbers from 1 to 5 and another containing numbers from 6 to 10.\n",
        "\n",
        "•\tUse list comprehension to create a new list that contains the sum of corresponding elements from the two lists.\n"
      ],
      "metadata": {
        "id": "qjD5GkuC6xGL"
      }
    },
    {
      "cell_type": "code",
      "source": [
        "list1 = [1, 2, 3, 4, 5]\n",
        "list2 = [6, 7, 8, 9, 10]\n",
        "sum_list = [x + y for x, y in zip(list1, list2)]\n",
        "print(\"Sum list:\", sum_list)\n"
      ],
      "metadata": {
        "colab": {
          "base_uri": "https://localhost:8080/"
        },
        "id": "KXgPB52c6xN8",
        "outputId": "4af5d9b5-7d5f-4f1e-d0f7-1c39f9e13368"
      },
      "execution_count": 11,
      "outputs": [
        {
          "output_type": "stream",
          "name": "stdout",
          "text": [
            "Sum list: [7, 9, 11, 13, 15]\n"
          ]
        }
      ]
    },
    {
      "cell_type": "markdown",
      "source": [
        "## Task12:12.\tFiltering and Sorting:\n",
        "Create a list of numbers.\n",
        "\n",
        "•\tUse list comprehension to create a new list containing only the even numbers from the original list.\n",
        "\n",
        "•\tSort the new list in descending order.\n"
      ],
      "metadata": {
        "id": "PO1CRI_q7BxD"
      }
    },
    {
      "cell_type": "code",
      "source": [
        "numbers = [3, 6, 2, 8, 5, 9, 4, 7]\n",
        "even_numbers = [num for num in numbers if num % 2 == 0]\n",
        "even_numbers.sort(reverse=True)\n",
        "print(\"Sorted even numbers:\", even_numbers)\n"
      ],
      "metadata": {
        "colab": {
          "base_uri": "https://localhost:8080/"
        },
        "id": "B6PtGiGQ7B7U",
        "outputId": "96a16efb-a974-48f5-b34d-caa71372421b"
      },
      "execution_count": 12,
      "outputs": [
        {
          "output_type": "stream",
          "name": "stdout",
          "text": [
            "Sorted even numbers: [8, 6, 4, 2]\n"
          ]
        }
      ]
    },
    {
      "cell_type": "markdown",
      "source": [
        "\n",
        "## Tak13.\tList Slicing and Reversing:\n",
        "•\tCreate a list of numbers from 1 to 10.\n",
        "\n",
        "•\tUse list slicing to create a new list containing only the even numbers from the original list, in reverse order.\n",
        "\n",
        "---\n",
        "\n"
      ],
      "metadata": {
        "id": "i8pzyiWL7P00"
      }
    },
    {
      "cell_type": "code",
      "source": [
        "numbers = list(range(1, 11))\n",
        "even_reverse = numbers[-2::-2]\n",
        "print(\"Even numbers in reverse:\", even_reverse)\n"
      ],
      "metadata": {
        "colab": {
          "base_uri": "https://localhost:8080/"
        },
        "id": "2Y1rP5zj7P98",
        "outputId": "db23be5c-10fa-415c-e656-b9dee618ec70"
      },
      "execution_count": 13,
      "outputs": [
        {
          "output_type": "stream",
          "name": "stdout",
          "text": [
            "Even numbers in reverse: [9, 7, 5, 3, 1]\n"
          ]
        }
      ]
    },
    {
      "cell_type": "markdown",
      "source": [
        "## Taak14.\tCombining Lists and List Methods:\n",
        "•\tCreate two lists, one containing even numbers and another containing odd numbers.\n",
        "\n",
        "•\tUse list methods to combine the two lists into a single list, alternating between even and odd numbers.\n",
        "\n",
        "\n"
      ],
      "metadata": {
        "id": "_IXTs6_f7gzZ"
      }
    },
    {
      "cell_type": "code",
      "source": [
        "even_numbers = [2, 4, 6, 8, 10]\n",
        "odd_numbers = [1, 3, 5, 7, 9]\n",
        "combined_list = []\n",
        "for even, odd in zip(even_numbers, odd_numbers):\n",
        "    combined_list.append(even)\n",
        "    combined_list.append(odd)\n",
        "print(\"Combined list:\", combined_list)\n"
      ],
      "metadata": {
        "colab": {
          "base_uri": "https://localhost:8080/"
        },
        "id": "t1hOVt1G7g8s",
        "outputId": "9312c8df-c26d-4edf-e052-585ec79bccbc"
      },
      "execution_count": 18,
      "outputs": [
        {
          "output_type": "stream",
          "name": "stdout",
          "text": [
            "Combined list: [2, 1, 4, 3, 6, 5, 8, 7, 10, 9]\n"
          ]
        }
      ]
    }
  ],
  "metadata": {
    "colab": {
      "provenance": []
    },
    "kernelspec": {
      "display_name": "Python 3",
      "name": "python3"
    },
    "language_info": {
      "name": "python"
    }
  },
  "nbformat": 4,
  "nbformat_minor": 0
}